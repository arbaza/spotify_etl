{
 "cells": [
  {
   "cell_type": "code",
   "execution_count": null,
   "id": "68f825fa",
   "metadata": {},
   "outputs": [],
   "source": [
    "#!pip install requests\n"
   ]
  },
  {
   "cell_type": "code",
   "execution_count": null,
   "id": "9314f4fe",
   "metadata": {},
   "outputs": [],
   "source": [
    "import base64\n",
    "import requests\n",
    "import datetime"
   ]
  },
  {
   "cell_type": "code",
   "execution_count": null,
   "id": "023e8dc5",
   "metadata": {},
   "outputs": [],
   "source": [
    "client_id = '###########################'\n",
    "client_secret = '#########################'"
   ]
  },
  {
   "cell_type": "code",
   "execution_count": null,
   "id": "fbf58ee2",
   "metadata": {},
   "outputs": [],
   "source": [
    "client_creds = f\"{client_id}:{client_secret}\"\n",
    "type(client_creds)\n"
   ]
  },
  {
   "cell_type": "code",
   "execution_count": null,
   "id": "d314682f",
   "metadata": {},
   "outputs": [],
   "source": [
    "client_creds_64 = base64.b64encode(client_creds.encode())\n",
    "#print(client_creds_64)"
   ]
  },
  {
   "cell_type": "code",
   "execution_count": null,
   "id": "0a809c40",
   "metadata": {},
   "outputs": [],
   "source": [
    "token_url = 'https://accounts.spotify.com/api/token'\n",
    "method = 'POST'\n",
    "token_data = {\n",
    "    \"grant_type\" : 'client_credentials'\n",
    "}\n",
    "\n",
    "token_header  = {\n",
    "    'Authorization': f'Basic {client_creds_64.decode()}'\n",
    "}\n",
    "#token_header"
   ]
  },
  {
   "cell_type": "code",
   "execution_count": null,
   "id": "e5a4461d",
   "metadata": {},
   "outputs": [],
   "source": [
    "r = requests.post(token_url, data = token_data, headers = token_header)\n",
    "#print(r.json())\n",
    "valid_request = r.status_code in range(200, 299)\n"
   ]
  },
  {
   "cell_type": "code",
   "execution_count": null,
   "id": "51dd88ce",
   "metadata": {},
   "outputs": [],
   "source": [
    "if valid_request:\n",
    "    token_response_data = r.json()\n",
    "    now = datetime.datetime.now()\n",
    "    access_token = token_response_data['access_token']\n",
    "    expires_in = token_response_data['expires_in']\n",
    "    expires = now + datetime.timedelta(seconds= expires_in)\n",
    "    did_expire = expires<now"
   ]
  },
  {
   "cell_type": "code",
   "execution_count": null,
   "id": "a9a2c8f8",
   "metadata": {},
   "outputs": [],
   "source": []
  }
 ],
 "metadata": {
  "interpreter": {
   "hash": "3d8c4c8de896ba8a840d462829095ccb9c7a09689a33bb9bbb0eeb8e8a95d9d2"
  },
  "kernelspec": {
   "display_name": "Python 3.9.7 64-bit ('etl_env': venv)",
   "name": "python3"
  },
  "language_info": {
   "codemirror_mode": {
    "name": "ipython",
    "version": 3
   },
   "file_extension": ".py",
   "mimetype": "text/x-python",
   "name": "python",
   "nbconvert_exporter": "python",
   "pygments_lexer": "ipython3",
   "version": "3.9.7"
  }
 },
 "nbformat": 4,
 "nbformat_minor": 5
}
